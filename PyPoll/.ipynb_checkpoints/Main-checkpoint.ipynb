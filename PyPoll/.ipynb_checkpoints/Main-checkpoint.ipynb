{
 "cells": [
  {
   "cell_type": "code",
   "execution_count": 64,
   "metadata": {},
   "outputs": [],
   "source": [
    "# Import Dependencies\n",
    "import os\n",
    "import csv"
   ]
  },
  {
   "cell_type": "code",
   "execution_count": 65,
   "metadata": {},
   "outputs": [],
   "source": [
    "# Assign file path\n",
    "# I copied and pasted the resources folder into my homework folder \n",
    "budget_csv = os.path.join(\".\",\"Resources\",\"election_data.csv\")"
   ]
  },
  {
   "cell_type": "code",
   "execution_count": 67,
   "metadata": {},
   "outputs": [
    {
     "name": "stdout",
     "output_type": "stream",
     "text": [
      "The total number of votes is 3521001\n",
      "The candidates who recevied votes are: ['Khan', 'Correy', 'Li', \"O'Tooley\"]\n",
      "Candidate Khan received 2218231 votes, which is 63.00001050837531% of the votes\n",
      "Candidate Correy received 704200 votes, which is 19.999994319797125% of the votes\n",
      "Candidate Li received 492940 votes, which is 13.999996023857989% of the votes\n",
      "Candidate O'Tooley received 105630 votes, which is 2.999999147969569% of the votes\n",
      "{'Khan': 2218231}\n",
      "{'Correy': 704200}\n",
      "{'Li': 492940}\n",
      "{\"O'Tooley\": 105630}\n",
      "The winner is O'Tooley!\n"
     ]
    }
   ],
   "source": [
    "# Read in the CSV file\n",
    "with open(budget_csv, newline='') as csvfile:\n",
    "\n",
    "    # Split the data on commas\n",
    "    csvreader = csv.reader(csvfile, delimiter=',')\n",
    "\n",
    "    # Account for header row\n",
    "    header = next(csvreader)\n",
    "    \n",
    "    # create total votes list and count\n",
    "    voteslist = []\n",
    "    \n",
    "    for row in csvreader:\n",
    "        voteslist.append(row[2])\n",
    "\n",
    "    # Return total number of votes\n",
    "    print(f'The total number of votes is {len(voteslist)}')\n",
    "    \n",
    "     # create list of candidates who received votes \n",
    "    candidateslist = []\n",
    "    \n",
    "    # loop through list to get unique values\n",
    "    for name in voteslist:\n",
    "        if name not in candidateslist:\n",
    "            candidateslist.append(name)\n",
    "    \n",
    "    # print unique candidates \n",
    "    print(f'The candidates who recevied votes are: {candidateslist}')\n",
    "    \n",
    "    # loop through candidate list to calculate votes and percentage of votes \n",
    "    for candidate in candidateslist:\n",
    "        print(f'Candidate {str(candidate)} received {voteslist.count(str(candidate))} votes, which is {(voteslist.count(str(candidate))/(len(voteslist))*100)}% of the votes')       \n",
    "            \n",
    "    # Create a dictionary of candidates and their vote count\n",
    "    candidateVotes = {}\n",
    "    for candidate in candidateslist: \n",
    "        candidateVotes = {candidate : voteslist.count(candidate)}\n",
    "        \n",
    "        # print dictionary to ensure loop is creating full dictionary \n",
    "        print(candidateVotes)\n",
    "\n",
    "    # create function that draws from the candidateVotes dictionary to find the candidate with max votes \n",
    "    def maxvotes(candidateVotes): \n",
    "        votesCount=list(candidateVotes.values())\n",
    "        candidateName=list(candidateVotes.keys())\n",
    "        print (f'The winner is {candidateName[votesCount.index(max(votesCount))]}!')\n",
    "    \n",
    "    maxvotes(candidateVotes)\n",
    "    \n",
    "    # I have no idea why the winner comes out as O'Tooley. I tried multiple methods for returning max through a function but got O'Tooley each time. \n",
    "    # One guess I had was that my code was counting max number of characters in the last name, in which case O'Tooley wins, but wasn't sure. \n",
    "    "
   ]
  }
 ],
 "metadata": {
  "kernelspec": {
   "display_name": "Python 3",
   "language": "python",
   "name": "python3"
  },
  "language_info": {
   "codemirror_mode": {
    "name": "ipython",
    "version": 3
   },
   "file_extension": ".py",
   "mimetype": "text/x-python",
   "name": "python",
   "nbconvert_exporter": "python",
   "pygments_lexer": "ipython3",
   "version": "3.7.4"
  }
 },
 "nbformat": 4,
 "nbformat_minor": 2
}
