{
 "cells": [
  {
   "cell_type": "code",
   "execution_count": 76,
   "metadata": {},
   "outputs": [],
   "source": [
    "# Import Dependencies\n",
    "import os\n",
    "import csv"
   ]
  },
  {
   "cell_type": "code",
   "execution_count": 77,
   "metadata": {
    "scrolled": false
   },
   "outputs": [
    {
     "name": "stdout",
     "output_type": "stream",
     "text": [
      "C:\\Users\\josep\\Documents\\1. SMU Data Science\\2. In-class-work_my-work\\SMU-DAL-DATA-PT-11-2019-U-C\\02-Homework\\03-Python\\python-challenge\\PyBank\n",
      ".\\Resources\\budget_data.csv\n"
     ]
    }
   ],
   "source": [
    "# Set and check path for CSV file\n",
    "budgetData = os.path.join(\".\",\"Resources\",\"budget_data.csv\")\n",
    "currentDirectory = os.getcwd()\n",
    "print(currentDirectory)\n",
    "print(budgetData)"
   ]
  },
  {
   "cell_type": "code",
   "execution_count": 85,
   "metadata": {},
   "outputs": [],
   "source": [
    "# Assign file path\n",
    "# I copied and pasted the resources folder into my homework folder for simpler pathing  \n",
    "budget_csv = os.path.join(\".\",\"Resources\",\"budget_data.csv\")"
   ]
  },
  {
   "cell_type": "code",
   "execution_count": 102,
   "metadata": {
    "scrolled": true
   },
   "outputs": [
    {
     "name": "stdout",
     "output_type": "stream",
     "text": [
      "Total months: 86\n",
      "Net profit/loss: $38382578\n"
     ]
    }
   ],
   "source": [
    "# Read in the CSV file\n",
    "with open(budget_csv, 'r', newline='') as csvfile:\n",
    "\n",
    "    # Split the data on commas\n",
    "    csvreader = csv.reader(csvfile, delimiter=',')\n",
    "\n",
    "    # Account for header row\n",
    "    header = next(csvreader)\n",
    "    \n",
    "    # create months list array\n",
    "    monthslist = []\n",
    "    \n",
    "    # create profit/loss array \n",
    "    profitlosslist = []\n",
    "    \n",
    "    # loop through csv file and build month and profit/loss lists \n",
    "    for row in csvreader:\n",
    "        monthslist.append(row[0])\n",
    "        profitlosslist.append(int(row[1]))\n",
    "\n",
    "    # Return total number of months\n",
    "    print(f'Total months: {len(monthslist)}')\n",
    "    \n",
    "    # Return net profit loss \n",
    "    print(f'Net profit/loss: ${sum(profitlosslist)}')"
   ]
  },
  {
   "cell_type": "code",
   "execution_count": null,
   "metadata": {},
   "outputs": [],
   "source": [
    "# Attempted but incomplete code : ----------------------------------------------------------------------"
   ]
  },
  {
   "cell_type": "code",
   "execution_count": null,
   "metadata": {},
   "outputs": [],
   "source": [
    "    # Profit loss change list and calculations \n",
    "    profitlosschangelist = []\n",
    "    for row in csvreader(2, len(profitlosslist)+1):\n",
    "        profitlosschange = row+1[2] - row[2]\n",
    "        profitlosschangelist.append(profitlosschange)\n",
    "        \n",
    "    # calculate average profit/loss change  \n",
    "    profitlosschangeavg = sum(profitlosschangelist)/len(profitlosschangelist) \n",
    "    print(profitlosschangeavg)"
   ]
  },
  {
   "cell_type": "code",
   "execution_count": null,
   "metadata": {},
   "outputs": [],
   "source": [
    "    #The greatest increase in profits (date and amount) over the entire period\n",
    "    maxprofitincrease = max(profitlosschangelist)\n",
    "\n",
    "    for row in csvreader\n",
    "        for x in profitlosschangelist\n",
    "            if x == maxprofitincrease\n",
    "                print(f'{month \" : \" maxprofitincrease})\n",
    "\n",
    "        # Didn't know how to get max profit increase to speak to original data to pull the correct code\n",
    "        maxmonth = csvreader.index(profitlosschangelist.index(maxprofitincrease)),0\n",
    "        print(f'The largest profit increase of ' maxprofitincrease ' was in ' maxmonth)\n"
   ]
  },
  {
   "cell_type": "code",
   "execution_count": null,
   "metadata": {},
   "outputs": [],
   "source": [
    "    #The greatest decrease in losses (date and amount) over the entire period\n",
    "    maxlossreduction = min(profitlosschangelist)\n",
    "\n",
    "    for x in profitlosschangelist\n",
    "        if x == maxlossreduction\n",
    "            print(f'{month \" : \" maxlossreduction})\n",
    "    \n",
    "    # Didn't know how to get max profit increase to speak to original data to pull the correct code"
   ]
  }
 ],
 "metadata": {
  "kernelspec": {
   "display_name": "Python 3",
   "language": "python",
   "name": "python3"
  },
  "language_info": {
   "codemirror_mode": {
    "name": "ipython",
    "version": 3
   },
   "file_extension": ".py",
   "mimetype": "text/x-python",
   "name": "python",
   "nbconvert_exporter": "python",
   "pygments_lexer": "ipython3",
   "version": "3.7.4"
  }
 },
 "nbformat": 4,
 "nbformat_minor": 2
}
